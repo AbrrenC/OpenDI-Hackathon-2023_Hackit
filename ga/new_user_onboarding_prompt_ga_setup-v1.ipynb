{
 "cells": [
  {
   "cell_type": "code",
   "execution_count": 1,
   "id": "e4ca7d58",
   "metadata": {},
   "outputs": [],
   "source": [
    "import pandas as pd\n",
    "import random\n",
    "\n",
    "from sklearn.feature_extraction.text import TfidfVectorizer\n",
    "from sklearn.metrics.pairwise import cosine_similarity"
   ]
  },
  {
   "cell_type": "markdown",
   "id": "adc762fb",
   "metadata": {},
   "source": [
    "### Generate population prompts, responses and ideal responses"
   ]
  },
  {
   "cell_type": "code",
   "execution_count": 2,
   "id": "8a892d34",
   "metadata": {},
   "outputs": [],
   "source": [
    "df = pd.read_csv(\"/Users/leiyang/competitions/opendi/corrected_e_commerce_chatbot_prompts_responses_ideal.csv\")\n",
    "df.head()\n",
    "prompts = df[\"User Prompt\"].tolist()\n",
    "responses = df[\"Response\"].tolist()\n",
    "ideal_responses = df[\"Ideal Response\"].tolist()"
   ]
  },
  {
   "cell_type": "code",
   "execution_count": 3,
   "id": "7a5f59ff",
   "metadata": {},
   "outputs": [
    {
     "data": {
      "text/plain": [
       "['How do I create an account?',\n",
       " 'Where can I find electronics on sale?',\n",
       " 'I need help with my order.',\n",
       " 'Can I track my shipment?',\n",
       " 'How do I return a product?',\n",
       " 'Are there any new user discounts?',\n",
       " 'What are the payment options available?',\n",
       " 'How can I update my shipping address?',\n",
       " 'Can you recommend some gift ideas?',\n",
       " 'How do I change my password?',\n",
       " 'Is there a loyalty program?',\n",
       " 'What are the best-selling books right now?',\n",
       " 'How do I apply a promo code?',\n",
       " 'Can you help me find vegan skincare products?',\n",
       " 'How do I subscribe to the newsletter?',\n",
       " \"What's the warranty on electronic gadgets?\",\n",
       " 'How do I leave a product review?',\n",
       " 'Can I buy a gift card?',\n",
       " 'What are the customer service hours?',\n",
       " 'How do I delete my account?']"
      ]
     },
     "execution_count": 3,
     "metadata": {},
     "output_type": "execute_result"
    }
   ],
   "source": [
    "prompts"
   ]
  },
  {
   "cell_type": "code",
   "execution_count": 4,
   "id": "5370d141",
   "metadata": {},
   "outputs": [
    {
     "data": {
      "text/plain": [
       "[\"To create an account, click on the 'Sign Up' button at the top right corner and fill in your details. You'll need to provide your email and create a password.\",\n",
       " \"You can find electronics on sale by clicking on the 'Deals' section. There, choose the 'Electronics' category to see all the discounted items.\",\n",
       " 'Sure, I can help with that. Please provide your order number or the email address used for the order so I can look into it for you.',\n",
       " \"Yes, you can track your shipment. Once your order is shipped, you'll receive an email with a tracking link. You can also find this link in your order history.\",\n",
       " \"To return a product, go to your order history, select the item, and click 'Return Item'. Follow the instructions to complete the return process.\",\n",
       " 'Yes, as a new user, you get a 10% discount on your first purchase. Use the code WELCOME10 at checkout.',\n",
       " 'We accept various payment options including credit/debit cards, PayPal, and Apple Pay. You can choose your preferred method at checkout.',\n",
       " \"To update your shipping address, go to your account settings, and under 'Shipping Address', you can add or edit your addresses.\",\n",
       " \"Certainly! Could you specify the occasion or the interests of the person you're buying for, so I can provide tailored suggestions?\",\n",
       " \"To change your password, go to account settings and click on 'Change Password'. You'll need to enter your current password and then your new one.\",\n",
       " 'Yes, we have a loyalty program where you earn points with every purchase. These points can be redeemed for discounts on future orders.',\n",
       " \"Our best-selling books currently include 'The Midnight Library' and 'Atomic Habits'. You can find more in the 'Best Sellers' section under Books.\",\n",
       " \"To apply a promo code, proceed to checkout and enter the code in the 'Promo Code' field before finalizing your purchase.\",\n",
       " \"Of course! You can find vegan skincare products under the 'Beauty' category. Use the filter option to select 'Vegan' for more specific results.\",\n",
       " \"To subscribe to our newsletter, scroll to the bottom of the homepage and enter your email address in the 'Subscribe' box.\",\n",
       " 'The warranty on electronic gadgets varies by product. Typically, it ranges from 1 to 2 years. Check the product description for specific warranty information.',\n",
       " \"After your purchase, you'll receive an email inviting you to review the product. You can also leave a review by going to the product page and clicking 'Write a Review'.\",\n",
       " \"Yes, you can buy a gift card. Go to the 'Gift Card' section, choose the amount, and proceed to purchase. You can send it directly to the recipientâ\\x80\\x99s email.\",\n",
       " 'Our customer service is available 24/7. You can reach out via live chat, email, or phone at any time.',\n",
       " 'To delete your account, please contact our customer service team. They will guide you through the process and help with any concerns.']"
      ]
     },
     "execution_count": 4,
     "metadata": {},
     "output_type": "execute_result"
    }
   ],
   "source": [
    "responses"
   ]
  },
  {
   "cell_type": "code",
   "execution_count": 5,
   "id": "c37db36a",
   "metadata": {},
   "outputs": [
    {
     "data": {
      "text/plain": [
       "['To create an account, simply click on the \"Create Account\" button in the top right corner of the page. You will be prompted to enter your name, email address, and password. Once you have entered this information, click on the \"Create Account\" button again and you will be logged in to your new account.',\n",
       " 'To find electronics on sale, you can either browse the \"Electronics\" category on the main page or use the search bar to search for specific products. Once you have found a product that you are interested in, you can click on the product image to view more information about the product. If the product is on sale, you will see a \"Sale\" sticker on the product image.',\n",
       " 'If you need help with your order, you can contact customer service by clicking on the \"Contact Us\" link in the footer of the page. You can also contact customer service by phone or email.',\n",
       " \"Absolutely! To track your shipment, go to 'My Orders' in your account and select the order you want to track. You'll see a tracking link that provides real-time updates on your shipment's status.\",\n",
       " 'To initiate a return, visit your order history and select the item you wish to return. Follow the step-by-step instructions for returning the product. Please note, returns are available within 30 days of purchase.',\n",
       " \"Welcome to our store! As a new user, you're eligible for a 15% discount on your first purchase. Use the code NEW15 at checkout. This discount applies to all products except those already on sale.\",\n",
       " \"We offer a variety of payment options for your convenience, including credit/debit cards, PayPal, and net banking. You can also choose 'Cash on Delivery' for eligible orders.\",\n",
       " \"You can update your shipping address anytime by going to 'Account Settings' and selecting 'Edit' under Shipping Address. Add or modify your addresses there for future orders.\",\n",
       " \"Certainly! To provide the best recommendations, could you tell me a bit more about the recipient's interests or the occasion? This will help me find the perfect gift options for you.\",\n",
       " \"To change your password, visit 'Account Settings' and select 'Change Password.' You'll need to enter your current password for verification before setting a new one.\",\n",
       " \"Yes, our loyalty program rewards you with points for every purchase, which you can redeem for discounts on future orders. You'll also receive exclusive offers and early access to sales.\",\n",
       " \"Our current bestsellers include 'The Four Winds' by Kristin Hannah and 'Atomic Habits' by James Clear. Check out our 'Bestsellers' category for more great reads that are popular with our customers.\",\n",
       " \"You can apply a promo code at checkout. Just enter the code in the 'Promo Code' field, and your discount will be applied to the eligible items in your cart.\",\n",
       " \"Absolutely! We have a variety of vegan skincare products. You can filter your search by selecting the 'Vegan' option under our 'Beauty' category to find all available vegan-friendly items.\",\n",
       " \"To subscribe to our newsletter, scroll to the bottom of any page on our site, enter your email address in the subscription field, and click 'Subscribe'. You'll be updated with the latest news and exclusive deals.\",\n",
       " \"The warranty for electronic gadgets varies by manufacturer, but typically ranges from 1 to 2 years. You can find detailed warranty information on the product page under the 'Specifications' tab.\",\n",
       " \"After your purchase, youÕll receive an email invitation to review the product, or you can go to the product page on our website and click 'Write a Review' at the bottom of the page.\",\n",
       " \"Yes, you can purchase gift cards in various denominations. Simply go to our 'Gift Card' section, select the amount you'd like, and proceed to checkout. You can send it directly to the recipient or to yourself.\",\n",
       " 'Our customer service team is available to assist you 24/7. You can reach us through live chat, email, or by calling our support hotline anytime.',\n",
       " 'To delete your account, please contact our customer support team. They will assist you with the process and ensure that all of your data is securely removed from our system.']"
      ]
     },
     "execution_count": 5,
     "metadata": {},
     "output_type": "execute_result"
    }
   ],
   "source": [
    "ideal_responses"
   ]
  },
  {
   "cell_type": "code",
   "execution_count": 6,
   "id": "5c414de5",
   "metadata": {},
   "outputs": [
    {
     "data": {
      "text/plain": [
       "20"
      ]
     },
     "execution_count": 6,
     "metadata": {},
     "output_type": "execute_result"
    }
   ],
   "source": [
    "len(prompts)"
   ]
  },
  {
   "cell_type": "markdown",
   "id": "254782c0",
   "metadata": {},
   "source": [
    "### GA"
   ]
  },
  {
   "cell_type": "markdown",
   "id": "a69dd1b8",
   "metadata": {},
   "source": [
    "#### Fitness function"
   ]
  },
  {
   "cell_type": "code",
   "execution_count": 8,
   "id": "43f0a12f",
   "metadata": {},
   "outputs": [
    {
     "data": {
      "text/plain": [
       "[0.8178121765022421,\n",
       " 0.3608270887051476,\n",
       " 0.47768757761823083,\n",
       " 0.15235244129820474,\n",
       " 0.3691896119456559,\n",
       " 0.2538393907906631,\n",
       " 0.2355860837655421,\n",
       " 0.5981838263554095,\n",
       " 0.38756992451507255,\n",
       " 0.8691864280354631,\n",
       " 0.2273922938211036,\n",
       " 0.14607087263191923,\n",
       " 0.24299915623978416,\n",
       " 0.4159332198770767,\n",
       " 0.6675983678867905,\n",
       " 0.27982807193249093,\n",
       " 0.4356410625431848,\n",
       " 0.259209828436252,\n",
       " 0.24384264736969818,\n",
       " 0.6388928488559167]"
      ]
     },
     "execution_count": 8,
     "metadata": {},
     "output_type": "execute_result"
    }
   ],
   "source": [
    "# Define a simple tokenizer function\n",
    "def tokenizer(text):\n",
    "    return text.split()\n",
    "\n",
    "# Initialize TF-IDF Vectorizer with the custom tokenizer\n",
    "tfidf_vectorizer = TfidfVectorizer(tokenizer=tokenizer)\n",
    "\n",
    "# Fit the vectorizer on the ideal responses and transform the responses\n",
    "tfidf_vectorizer.fit(ideal_responses)\n",
    "ideal_response_vectors = tfidf_vectorizer.transform(ideal_responses)\n",
    "response_vectors = tfidf_vectorizer.transform(responses)\n",
    "\n",
    "# Fitness function components\n",
    "def relevance_score(response_vector, ideal_response_vector):\n",
    "    # Calculate the cosine similarity between response and ideal response vectors\n",
    "    return cosine_similarity(response_vector, ideal_response_vector)[0][0]\n",
    "\n",
    "def informativeness_score(response, key_information):\n",
    "    # Check if key information is present in the response\n",
    "    return 1 if any(key_word in response for key_word in key_information) else 0\n",
    "\n",
    "def engagement_score(response):\n",
    "    # Simple heuristic: check if the response asks a question or provides a call-to-action\n",
    "    if '?' in response or 'click' in response or 'select' in response or 'visit' in response.lower():\n",
    "        return 1\n",
    "    return 0\n",
    "\n",
    "#list of key information words/phrases\n",
    "key_information=['account','address']\n",
    "\n",
    "# Calculate overall fitness for each response\n",
    "fitness_scores = []\n",
    "key_information = ['']\n",
    "for i in range(len(responses)):\n",
    "    # Calculate each component of fitness\n",
    "    relevance = relevance_score(response_vectors[i], ideal_response_vectors[i])\n",
    "    informativeness = informativeness_score(responses[i], key_information)  # Example keyword\n",
    "    engagement = engagement_score(responses[i])\n",
    "    \n",
    "    # Weights for each component (example weights)\n",
    "    weight1, weight2, weight3 = 0.4, 0.4, 0.2\n",
    "    overall_fitness = weight1 * relevance + weight2 * informativeness + weight3 * engagement\n",
    "    \n",
    "    fitness_scores.append(overall_fitness)\n",
    "\n",
    "fitness_scores\n"
   ]
  },
  {
   "cell_type": "code",
   "execution_count": 117,
   "id": "98fffa01",
   "metadata": {},
   "outputs": [
    {
     "data": {
      "text/plain": [
       "0.3608270887051476"
      ]
     },
     "execution_count": 117,
     "metadata": {},
     "output_type": "execute_result"
    }
   ],
   "source": [
    "fitness_scores[1]"
   ]
  },
  {
   "cell_type": "markdown",
   "id": "b2b79d5a",
   "metadata": {},
   "source": [
    "#### The other GA operators"
   ]
  },
  {
   "cell_type": "code",
   "execution_count": 118,
   "id": "1224aa5d",
   "metadata": {},
   "outputs": [],
   "source": [
    "def select_parents(population, fitness_values):\n",
    "    # Roulette wheel selection\n",
    "    total_fitness = sum(fitness_values)\n",
    "    selection_probabilities = [f / total_fitness for f in fitness_values]\n",
    "    return random.choices(population, weights=selection_probabilities, k=len(population) // 2)"
   ]
  },
  {
   "cell_type": "code",
   "execution_count": 119,
   "id": "4c190611",
   "metadata": {},
   "outputs": [],
   "source": [
    "def crossover(parents):\n",
    "    children = []\n",
    "    for _ in range(len(parents)):\n",
    "        parent1, parent2 = random.sample(parents, 2)\n",
    "        child = parent1 if random.random() < 0.5 else parent2\n",
    "        children.append(child)\n",
    "    return children"
   ]
  },
  {
   "cell_type": "code",
   "execution_count": 120,
   "id": "468c78bc",
   "metadata": {},
   "outputs": [],
   "source": [
    "def mutate(children, mutation_rate=0.1):\n",
    "    for i in range(len(children)):\n",
    "        if random.random() < mutation_rate:\n",
    "            children[i] = random.randint(0, num_prompts - 1)"
   ]
  },
  {
   "cell_type": "code",
   "execution_count": 121,
   "id": "3c385285",
   "metadata": {},
   "outputs": [
    {
     "name": "stdout",
     "output_type": "stream",
     "text": [
      "Generation 0: Best Prompt - Can I buy a gift card?\n",
      "Generation 1: Best Prompt - How can I update my shipping address?\n",
      "Generation 2: Best Prompt - How can I update my shipping address?\n",
      "Generation 3: Best Prompt - How can I update my shipping address?\n",
      "Generation 4: Best Prompt - How can I update my shipping address?\n",
      "Generation 5: Best Prompt - How can I update my shipping address?\n",
      "Generation 6: Best Prompt - How can I update my shipping address?\n",
      "Generation 7: Best Prompt - How do I delete my account?\n",
      "Generation 8: Best Prompt - How can I update my shipping address?\n",
      "Generation 9: Best Prompt - How can I update my shipping address?\n",
      "Generation 10: Best Prompt - How can I update my shipping address?\n",
      "Generation 11: Best Prompt - How can I update my shipping address?\n",
      "Generation 12: Best Prompt - How can I update my shipping address?\n",
      "Generation 13: Best Prompt - How do I subscribe to the newsletter?\n",
      "Generation 14: Best Prompt - How can I update my shipping address?\n",
      "Generation 15: Best Prompt - How can I update my shipping address?\n",
      "Generation 16: Best Prompt - Are there any new user discounts?\n",
      "Generation 17: Best Prompt - How can I update my shipping address?\n",
      "Generation 18: Best Prompt - How can I update my shipping address?\n",
      "Generation 19: Best Prompt - How can I update my shipping address?\n",
      "Generation 20: Best Prompt - How can I update my shipping address?\n",
      "Generation 21: Best Prompt - How can I update my shipping address?\n",
      "Generation 22: Best Prompt - How can I update my shipping address?\n",
      "Generation 23: Best Prompt - How can I update my shipping address?\n",
      "Generation 24: Best Prompt - How can I update my shipping address?\n",
      "Generation 25: Best Prompt - How can I update my shipping address?\n",
      "Generation 26: Best Prompt - How can I update my shipping address?\n",
      "Generation 27: Best Prompt - How can I update my shipping address?\n",
      "Generation 28: Best Prompt - How can I update my shipping address?\n",
      "Generation 29: Best Prompt - How can I update my shipping address?\n",
      "Generation 30: Best Prompt - How can I update my shipping address?\n",
      "Generation 31: Best Prompt - Where can I find electronics on sale?\n",
      "Generation 32: Best Prompt - How can I update my shipping address?\n",
      "Generation 33: Best Prompt - How do I create an account?\n",
      "Generation 34: Best Prompt - How can I update my shipping address?\n",
      "Generation 35: Best Prompt - How do I create an account?\n",
      "Generation 36: Best Prompt - How can I update my shipping address?\n",
      "Generation 37: Best Prompt - How do I create an account?\n",
      "Generation 38: Best Prompt - How do I create an account?\n",
      "Generation 39: Best Prompt - How can I update my shipping address?\n",
      "Generation 40: Best Prompt - How do I create an account?\n",
      "Generation 41: Best Prompt - How can I update my shipping address?\n",
      "Generation 42: Best Prompt - How can I update my shipping address?\n",
      "Generation 43: Best Prompt - How can I update my shipping address?\n",
      "Generation 44: Best Prompt - How can I update my shipping address?\n",
      "Generation 45: Best Prompt - How can I update my shipping address?\n",
      "Generation 46: Best Prompt - How can I update my shipping address?\n",
      "Generation 47: Best Prompt - How can I update my shipping address?\n",
      "Generation 48: Best Prompt - How do I create an account?\n",
      "Generation 49: Best Prompt - How can I update my shipping address?\n",
      "Best overall prompt: How can I update my shipping address?\n"
     ]
    }
   ],
   "source": [
    "num_prompts = len(prompts)\n",
    "population_size = 20\n",
    "num_generations = 50\n",
    "\n",
    "# # Fitness function \n",
    "# def calculate_fitness(solution):\n",
    "#     # Implement the fitness calculation here\n",
    "#     return random.uniform(0, 1)  # Placeholder\n",
    "\n",
    "# Initialize population with random solutions\n",
    "population = [random.randint(0, num_prompts-1) for _ in range(population_size)]\n",
    "best_prompts = []\n",
    "\n",
    "for generation in range(num_generations):\n",
    "    # Calculate fitness for each solution\n",
    "#     fitness_values = [calculate_fitness(sol) for sol in population]\n",
    "    fitness_values = [fitness_scores[sol] for sol in population]\n",
    "\n",
    "    # Selection\n",
    "    parents = select_parents(population, fitness_values)\n",
    "\n",
    "    # Crossover\n",
    "    children = crossover(parents)\n",
    "\n",
    "    # Mutation\n",
    "    mutate(children)\n",
    "\n",
    "    # Create new generation\n",
    "    population = children + parents\n",
    "\n",
    "    # Optional: Print best solution in this generation\n",
    "    best_sol = population[fitness_values.index(max(fitness_values))]\n",
    "    print(f\"Generation {generation}: Best Prompt - {prompts[best_sol]}\")\n",
    "    best_prompts.append((prompts[best_sol],max(fitness_values)))\n",
    "\n",
    "# Final best solution\n",
    "best_overall_sol = population[fitness_values.index(max(fitness_values))]\n",
    "print(f\"Best overall prompt: {prompts[best_overall_sol]}\")\n",
    "best_prompts.sort(key=lambda x: x[1],reverse=True)\n",
    "top_5_prompts = best_prompts[:5]"
   ]
  },
  {
   "cell_type": "code",
   "execution_count": 122,
   "id": "b74fa285",
   "metadata": {},
   "outputs": [
    {
     "data": {
      "text/plain": [
       "[('How can I update my shipping address?', 0.8691864280354631),\n",
       " ('How do I create an account?', 0.8691864280354631),\n",
       " ('Can I buy a gift card?', 0.8178121765022421),\n",
       " ('How can I update my shipping address?', 0.8178121765022421),\n",
       " ('How can I update my shipping address?', 0.8178121765022421)]"
      ]
     },
     "execution_count": 122,
     "metadata": {},
     "output_type": "execute_result"
    }
   ],
   "source": [
    "top_5_prompts"
   ]
  },
  {
   "cell_type": "code",
   "execution_count": 123,
   "id": "8733439b",
   "metadata": {},
   "outputs": [
    {
     "data": {
      "text/plain": [
       "7"
      ]
     },
     "execution_count": 123,
     "metadata": {},
     "output_type": "execute_result"
    }
   ],
   "source": [
    "best_overall_sol"
   ]
  },
  {
   "cell_type": "code",
   "execution_count": 124,
   "id": "2f667c67",
   "metadata": {},
   "outputs": [
    {
     "data": {
      "text/plain": [
       "\"To change your password, go to account settings and click on 'Change Password'. You'll need to enter your current password and then your new one.\""
      ]
     },
     "execution_count": 124,
     "metadata": {},
     "output_type": "execute_result"
    }
   ],
   "source": [
    "responses[9]"
   ]
  },
  {
   "cell_type": "code",
   "execution_count": 125,
   "id": "e945369a",
   "metadata": {},
   "outputs": [
    {
     "data": {
      "text/plain": [
       "\"To change your password, visit 'Account Settings' and select 'Change Password.' You'll need to enter your current password for verification before setting a new one.\""
      ]
     },
     "execution_count": 125,
     "metadata": {},
     "output_type": "execute_result"
    }
   ],
   "source": [
    "ideal_responses[9]"
   ]
  },
  {
   "cell_type": "markdown",
   "id": "786d3c24",
   "metadata": {},
   "source": [
    "### Analyse the best prompts "
   ]
  },
  {
   "cell_type": "markdown",
   "id": "cde3dc7f",
   "metadata": {},
   "source": [
    "#### Analyse patterns and user intent recognition"
   ]
  },
  {
   "cell_type": "code",
   "execution_count": 126,
   "id": "f9043138",
   "metadata": {},
   "outputs": [
    {
     "data": {
      "text/plain": [
       "[0.5981838263554095,\n",
       " 0.5981838263554095,\n",
       " 0.5981838263554095,\n",
       " 0.8178121765022421,\n",
       " 0.5981838263554095,\n",
       " 0.5981838263554095,\n",
       " 0.5981838263554095,\n",
       " 0.5981838263554095,\n",
       " 0.5981838263554095,\n",
       " 0.5981838263554095,\n",
       " 0.5981838263554095,\n",
       " 0.8178121765022421,\n",
       " 0.5981838263554095,\n",
       " 0.5981838263554095,\n",
       " 0.5981838263554095,\n",
       " 0.5981838263554095,\n",
       " 0.5981838263554095,\n",
       " 0.5981838263554095,\n",
       " 0.5981838263554095,\n",
       " 0.5981838263554095]"
      ]
     },
     "execution_count": 126,
     "metadata": {},
     "output_type": "execute_result"
    }
   ],
   "source": [
    "fitness_values"
   ]
  },
  {
   "cell_type": "code",
   "execution_count": 129,
   "id": "46f669ca",
   "metadata": {},
   "outputs": [],
   "source": [
    "# Example: Identify common themes or keywords in top prompts\n",
    "from collections import Counter\n",
    "\n",
    "# Assuming 'top_prompts' is a list of best-performing prompts identified by GA\n",
    "top_prompts = top_5_prompts\n",
    "word_counts = Counter(word for prompt, _ in top_prompts for word in prompt.split())"
   ]
  },
  {
   "cell_type": "code",
   "execution_count": 136,
   "id": "cded2a79",
   "metadata": {},
   "outputs": [
    {
     "name": "stdout",
     "output_type": "stream",
     "text": [
      "Common themes: [('I', 5), ('How', 4), ('can', 3), ('update', 3), ('my', 3)]\n",
      "Recognized intent: update_address\n"
     ]
    }
   ],
   "source": [
    "# Identify most common words or themes\n",
    "common_words = word_counts.most_common(5)\n",
    "print(\"Common themes:\", common_words)\n",
    "\n",
    "# Enhance intent recognition based on these themes\n",
    "def recognize_intent(user_input):\n",
    "    # Simplified intent recognition logic\n",
    "    if \"password\" in user_input:\n",
    "        return \"change_password\"\n",
    "    elif \"account\" in user_input:\n",
    "        return \"create_account\"\n",
    "    elif \"update\" in user_input:\n",
    "        # Additional check to distinguish between different types of updates\n",
    "        if \"address\" in user_input:\n",
    "            return \"update_address\"\n",
    "        elif \"account\" in user_input:\n",
    "            return \"update_account_info\"\n",
    "    # Add more conditions based on common themes\n",
    "    else:\n",
    "        return \"unknown\"\n",
    "\n",
    "\n",
    "# Test the function\n",
    "print(\"Recognized intent:\", recognize_intent(top_5_prompts[0][0]))\n"
   ]
  },
  {
   "cell_type": "code",
   "execution_count": 135,
   "id": "2d3783ba",
   "metadata": {},
   "outputs": [
    {
     "data": {
      "text/plain": [
       "'How can I update my shipping address?'"
      ]
     },
     "execution_count": 135,
     "metadata": {},
     "output_type": "execute_result"
    }
   ],
   "source": [
    "top_5_prompts[0][0]"
   ]
  },
  {
   "cell_type": "markdown",
   "id": "014ecf03",
   "metadata": {},
   "source": [
    "#### Enhance Interaction logic"
   ]
  },
  {
   "cell_type": "code",
   "execution_count": 139,
   "id": "ae12f0bb",
   "metadata": {},
   "outputs": [
    {
     "name": "stdout",
     "output_type": "stream",
     "text": [
      "Chatbot response: You can update your shipping address in account settings under 'Address Book'.\n"
     ]
    }
   ],
   "source": [
    "# Example: Prioritize responses based on GA insights and enhanced intent recognition\n",
    "def generate_response(user_intent):\n",
    "    if user_intent == \"change_password\":\n",
    "        return \"To change your password, go to account settings and select 'Change Password'.\"\n",
    "    elif user_intent == \"create_account\":\n",
    "        return \"Creating an account is easy! Just click on 'Sign Up' and follow the instructions.\"\n",
    "    elif user_intent == \"update_address\":\n",
    "        return \"You can update your shipping address in account settings under 'Address Book'.\"\n",
    "    elif user_intent == \"update_account_info\":\n",
    "        return \"To update your account information, navigate to account settings and choose the information you wish to update.\"\n",
    "    # Add more responses based on top intents\n",
    "    else:\n",
    "        return \"Sorry, I didn't understand that. Can you please rephrase your question?\"\n",
    "\n",
    "# Test the function\n",
    "user_intent = recognize_intent(\"How can I update my shipping address?\")\n",
    "print(\"Chatbot response:\", generate_response(user_intent))\n"
   ]
  },
  {
   "cell_type": "markdown",
   "id": "ff9944bf",
   "metadata": {},
   "source": [
    "#### Improve question framing"
   ]
  },
  {
   "cell_type": "code",
   "execution_count": 140,
   "id": "ef06b4be",
   "metadata": {},
   "outputs": [
    {
     "name": "stdout",
     "output_type": "stream",
     "text": [
      "Chatbot question: Could you provide more details to assist you better?\n"
     ]
    }
   ],
   "source": [
    "# Example: Frame questions based on user language patterns and intents\n",
    "def ask_for_details(user_intent):\n",
    "    if user_intent == \"change_password\":\n",
    "        return \"Would you like to reset your password, or are you trying to update it?\"\n",
    "    elif user_intent == \"create_account\":\n",
    "        return \"Do you need help with the steps to create a new account?\"\n",
    "    elif user_intent == \"update_address\":\n",
    "        return \"Are you looking to add a new address or modify an existing one?\"\n",
    "    elif user_intent == \"update_account_info\":\n",
    "        return \"What specific account information are you looking to update?\"\n",
    "    else:\n",
    "        return \"Could you provide more details to assist you better?\"\n",
    "\n",
    "# Test the function\n",
    "user_intent = recognize_intent(\"I need to change my delivery address\")\n",
    "print(\"Chatbot question:\", ask_for_details(user_intent))\n"
   ]
  },
  {
   "cell_type": "markdown",
   "id": "706f1cab",
   "metadata": {},
   "source": [
    "The chatbot asks more specific follow-up questions based on the recognized intent."
   ]
  },
  {
   "cell_type": "markdown",
   "id": "b2d5b653",
   "metadata": {},
   "source": [
    "#### Optimize user input processing"
   ]
  },
  {
   "cell_type": "code",
   "execution_count": 141,
   "id": "40253225",
   "metadata": {},
   "outputs": [
    {
     "name": "stdout",
     "output_type": "stream",
     "text": [
      "Processed response: You can update your shipping address in account settings under 'Address Book'.\n"
     ]
    }
   ],
   "source": [
    "# Example: Enhanced input processing\n",
    "def process_input(user_input):\n",
    "    intent = recognize_intent(user_input)\n",
    "    response = generate_response(intent)\n",
    "    return response\n",
    "\n",
    "# Test the function\n",
    "print(\"Processed response:\", process_input(\"How can I update my email address?\"))\n"
   ]
  },
  {
   "cell_type": "markdown",
   "id": "87f14e72",
   "metadata": {},
   "source": [
    "The chatbot processes user inputs, recognizes their intent, and generates an appropriate response."
   ]
  },
  {
   "cell_type": "markdown",
   "id": "18c2f0f1",
   "metadata": {},
   "source": [
    "#### Structure response effectively"
   ]
  },
  {
   "cell_type": "code",
   "execution_count": 142,
   "id": "2b78a0e0",
   "metadata": {},
   "outputs": [
    {
     "name": "stdout",
     "output_type": "stream",
     "text": [
      "Structured response: {'message': 'Click here to reset your password', 'action': 'open_link', 'url': '/reset-password'}\n"
     ]
    }
   ],
   "source": [
    "# Example: Structuring responses for clarity and action\n",
    "def structured_response(user_intent):\n",
    "    if user_intent == \"change_password\":\n",
    "        return {\"message\": \"Click here to reset your password\", \"action\": \"open_link\", \"url\": \"/reset-password\"}\n",
    "    elif user_intent == \"create_account\":\n",
    "        return {\"message\": \"Click here to start creating your account\", \"action\": \"open_link\", \"url\": \"/signup\"}\n",
    "    elif user_intent == \"update_address\":\n",
    "        return {\"message\": \"Click here to update your address\", \"action\": \"open_link\", \"url\": \"/address-book\"}\n",
    "    elif user_intent == \"update_account_info\":\n",
    "        return {\"message\": \"You can update your account info here\", \"action\": \"open_link\", \"url\": \"/account-settings\"}\n",
    "    else:\n",
    "        return {\"message\": \"Sorry, I'm not sure how to help with that. Can you try asking in a different way?\"}\n",
    "\n",
    "# Test the function\n",
    "user_intent = recognize_intent(\"I forgot my password\")\n",
    "print(\"Structured response:\", structured_response(user_intent))"
   ]
  },
  {
   "cell_type": "markdown",
   "id": "33a0aec0",
   "metadata": {},
   "source": [
    "Responses are structured with clear messages and actionable steps, like providing links for direct actions."
   ]
  },
  {
   "cell_type": "code",
   "execution_count": null,
   "id": "515e5b53",
   "metadata": {},
   "outputs": [],
   "source": []
  }
 ],
 "metadata": {
  "kernelspec": {
   "display_name": "Python 3 (ipykernel)",
   "language": "python",
   "name": "python3"
  },
  "language_info": {
   "codemirror_mode": {
    "name": "ipython",
    "version": 3
   },
   "file_extension": ".py",
   "mimetype": "text/x-python",
   "name": "python",
   "nbconvert_exporter": "python",
   "pygments_lexer": "ipython3",
   "version": "3.9.13"
  }
 },
 "nbformat": 4,
 "nbformat_minor": 5
}
