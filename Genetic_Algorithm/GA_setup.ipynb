{
 "cells": [
  {
   "cell_type": "code",
   "execution_count": 10,
   "id": "7090b3d6",
   "metadata": {},
   "outputs": [],
   "source": [
    "import pandas as pd\n",
    "import random"
   ]
  },
  {
   "cell_type": "code",
   "execution_count": 11,
   "id": "ebf7f4aa",
   "metadata": {},
   "outputs": [],
   "source": [
    "df = pd.read_csv(\"/Users/leiyang/competitions/opendi/prompts.csv\")\n",
    "prompts = df[\"Prompt\"].tolist()"
   ]
  },
  {
   "cell_type": "code",
   "execution_count": 12,
   "id": "43e84a1b",
   "metadata": {},
   "outputs": [
    {
     "data": {
      "text/plain": [
       "['Describe a futuristic city where all transportation is environmentally friendly.\\\\',\n",
       " 'Tell a story about a young inventor who creates a device that can instantly clean the ocean.\\\\',\n",
       " 'Explain how photosynthesis works in plants.\\\\',\n",
       " 'Convince someone to adopt a sustainable lifestyle to combat climate change.\\\\',\n",
       " 'Provide a step-by-step guide on how to build a simple solar-powered device at home.\\\\',\n",
       " 'What are the main differences between quantum and classical computers?\\\\',\n",
       " 'Write a poem about the beauty of the night sky.\\\\',\n",
       " 'Argue both sides of the debate on the use of artificial intelligence in healthcare.\\\\',\n",
       " 'Compare the impacts of solar and wind energy on the environment.\\\\',\n",
       " 'Imagine a world where water is more valuable than gold. Describe a day in the life of a person living in this world.\\\\',\n",
       " 'Describe how blockchain technology can enhance data security.\\\\',\n",
       " 'Narrate the events leading up to the signing of the Declaration of Independence.\\\\',\n",
       " 'Predict the state of interstellar travel in the next 200 years.\\\\',\n",
       " 'What advice would you give to someone starting their own tech startup?\\\\',\n",
       " 'Start a mystery story set in an abandoned space station.\\\\']"
      ]
     },
     "execution_count": 12,
     "metadata": {},
     "output_type": "execute_result"
    }
   ],
   "source": [
    "prompts"
   ]
  },
  {
   "cell_type": "code",
   "execution_count": 13,
   "id": "958b0e82",
   "metadata": {},
   "outputs": [
    {
     "data": {
      "text/plain": [
       "15"
      ]
     },
     "execution_count": 13,
     "metadata": {},
     "output_type": "execute_result"
    }
   ],
   "source": [
    "len(prompts)"
   ]
  },
  {
   "cell_type": "code",
   "execution_count": 14,
   "id": "8ebe54e8",
   "metadata": {},
   "outputs": [],
   "source": [
    "def select_parents(population, fitness_values):\n",
    "    # Roulette wheel selection\n",
    "    total_fitness = sum(fitness_values)\n",
    "    selection_probabilities = [f / total_fitness for f in fitness_values]\n",
    "    return random.choices(population, weights=selection_probabilities, k=len(population) // 2)\n"
   ]
  },
  {
   "cell_type": "code",
   "execution_count": 15,
   "id": "a0825848",
   "metadata": {},
   "outputs": [],
   "source": [
    "def crossover(parents):\n",
    "    children = []\n",
    "    for _ in range(len(parents)):\n",
    "        parent1, parent2 = random.sample(parents, 2)\n",
    "        child = parent1 if random.random() < 0.5 else parent2\n",
    "        children.append(child)\n",
    "    return children\n"
   ]
  },
  {
   "cell_type": "code",
   "execution_count": 16,
   "id": "42e6790a",
   "metadata": {},
   "outputs": [],
   "source": [
    "def mutate(children, mutation_rate=0.1):\n",
    "    for i in range(len(children)):\n",
    "        if random.random() < mutation_rate:\n",
    "            children[i] = random.randint(0, num_prompts - 1)\n"
   ]
  },
  {
   "cell_type": "code",
   "execution_count": 18,
   "id": "d52b64a0",
   "metadata": {},
   "outputs": [
    {
     "name": "stdout",
     "output_type": "stream",
     "text": [
      "Generation 0: Best Prompt - Convince someone to adopt a sustainable lifestyle to combat climate change.\\\n",
      "Generation 1: Best Prompt - Tell a story about a young inventor who creates a device that can instantly clean the ocean.\\\n",
      "Generation 2: Best Prompt - Tell a story about a young inventor who creates a device that can instantly clean the ocean.\\\n",
      "Generation 3: Best Prompt - Tell a story about a young inventor who creates a device that can instantly clean the ocean.\\\n",
      "Generation 4: Best Prompt - Tell a story about a young inventor who creates a device that can instantly clean the ocean.\\\n",
      "Generation 5: Best Prompt - What are the main differences between quantum and classical computers?\\\n",
      "Generation 6: Best Prompt - What are the main differences between quantum and classical computers?\\\n",
      "Generation 7: Best Prompt - What are the main differences between quantum and classical computers?\\\n",
      "Generation 8: Best Prompt - What are the main differences between quantum and classical computers?\\\n",
      "Generation 9: Best Prompt - What are the main differences between quantum and classical computers?\\\n",
      "Generation 10: Best Prompt - What are the main differences between quantum and classical computers?\\\n",
      "Generation 11: Best Prompt - What are the main differences between quantum and classical computers?\\\n",
      "Generation 12: Best Prompt - What are the main differences between quantum and classical computers?\\\n",
      "Generation 13: Best Prompt - What advice would you give to someone starting their own tech startup?\\\n",
      "Generation 14: Best Prompt - What advice would you give to someone starting their own tech startup?\\\n",
      "Generation 15: Best Prompt - What advice would you give to someone starting their own tech startup?\\\n",
      "Generation 16: Best Prompt - What advice would you give to someone starting their own tech startup?\\\n",
      "Generation 17: Best Prompt - What advice would you give to someone starting their own tech startup?\\\n",
      "Generation 18: Best Prompt - What advice would you give to someone starting their own tech startup?\\\n",
      "Generation 19: Best Prompt - What advice would you give to someone starting their own tech startup?\\\n",
      "Generation 20: Best Prompt - What advice would you give to someone starting their own tech startup?\\\n",
      "Generation 21: Best Prompt - What advice would you give to someone starting their own tech startup?\\\n",
      "Generation 22: Best Prompt - What advice would you give to someone starting their own tech startup?\\\n",
      "Generation 23: Best Prompt - What advice would you give to someone starting their own tech startup?\\\n",
      "Generation 24: Best Prompt - What advice would you give to someone starting their own tech startup?\\\n",
      "Generation 25: Best Prompt - What advice would you give to someone starting their own tech startup?\\\n",
      "Generation 26: Best Prompt - What advice would you give to someone starting their own tech startup?\\\n",
      "Generation 27: Best Prompt - What advice would you give to someone starting their own tech startup?\\\n",
      "Generation 28: Best Prompt - What advice would you give to someone starting their own tech startup?\\\n",
      "Generation 29: Best Prompt - What advice would you give to someone starting their own tech startup?\\\n",
      "Generation 30: Best Prompt - What advice would you give to someone starting their own tech startup?\\\n",
      "Generation 31: Best Prompt - What advice would you give to someone starting their own tech startup?\\\n",
      "Generation 32: Best Prompt - What advice would you give to someone starting their own tech startup?\\\n",
      "Generation 33: Best Prompt - What advice would you give to someone starting their own tech startup?\\\n",
      "Generation 34: Best Prompt - What advice would you give to someone starting their own tech startup?\\\n",
      "Generation 35: Best Prompt - What advice would you give to someone starting their own tech startup?\\\n",
      "Generation 36: Best Prompt - What advice would you give to someone starting their own tech startup?\\\n",
      "Generation 37: Best Prompt - What advice would you give to someone starting their own tech startup?\\\n",
      "Generation 38: Best Prompt - What advice would you give to someone starting their own tech startup?\\\n",
      "Generation 39: Best Prompt - What advice would you give to someone starting their own tech startup?\\\n",
      "Generation 40: Best Prompt - What advice would you give to someone starting their own tech startup?\\\n",
      "Generation 41: Best Prompt - Predict the state of interstellar travel in the next 200 years.\\\n",
      "Generation 42: Best Prompt - Convince someone to adopt a sustainable lifestyle to combat climate change.\\\n",
      "Generation 43: Best Prompt - What advice would you give to someone starting their own tech startup?\\\n",
      "Generation 44: Best Prompt - What advice would you give to someone starting their own tech startup?\\\n",
      "Generation 45: Best Prompt - Convince someone to adopt a sustainable lifestyle to combat climate change.\\\n",
      "Generation 46: Best Prompt - Convince someone to adopt a sustainable lifestyle to combat climate change.\\\n",
      "Generation 47: Best Prompt - Convince someone to adopt a sustainable lifestyle to combat climate change.\\\n",
      "Generation 48: Best Prompt - Convince someone to adopt a sustainable lifestyle to combat climate change.\\\n",
      "Generation 49: Best Prompt - Convince someone to adopt a sustainable lifestyle to combat climate change.\\\n",
      "Generation 50: Best Prompt - Convince someone to adopt a sustainable lifestyle to combat climate change.\\\n",
      "Generation 51: Best Prompt - Convince someone to adopt a sustainable lifestyle to combat climate change.\\\n",
      "Generation 52: Best Prompt - Convince someone to adopt a sustainable lifestyle to combat climate change.\\\n",
      "Generation 53: Best Prompt - Convince someone to adopt a sustainable lifestyle to combat climate change.\\\n",
      "Generation 54: Best Prompt - Convince someone to adopt a sustainable lifestyle to combat climate change.\\\n",
      "Generation 55: Best Prompt - Explain how photosynthesis works in plants.\\\n",
      "Generation 56: Best Prompt - Explain how photosynthesis works in plants.\\\n",
      "Generation 57: Best Prompt - Explain how photosynthesis works in plants.\\\n",
      "Generation 58: Best Prompt - Explain how photosynthesis works in plants.\\\n",
      "Generation 59: Best Prompt - Write a poem about the beauty of the night sky.\\\n",
      "Generation 60: Best Prompt - Write a poem about the beauty of the night sky.\\\n",
      "Generation 61: Best Prompt - Write a poem about the beauty of the night sky.\\\n",
      "Generation 62: Best Prompt - Write a poem about the beauty of the night sky.\\\n",
      "Generation 63: Best Prompt - Write a poem about the beauty of the night sky.\\\n",
      "Generation 64: Best Prompt - Write a poem about the beauty of the night sky.\\\n",
      "Generation 65: Best Prompt - Write a poem about the beauty of the night sky.\\\n",
      "Generation 66: Best Prompt - Explain how photosynthesis works in plants.\\\n",
      "Generation 67: Best Prompt - Explain how photosynthesis works in plants.\\\n",
      "Generation 68: Best Prompt - Explain how photosynthesis works in plants.\\\n",
      "Generation 69: Best Prompt - Explain how photosynthesis works in plants.\\\n",
      "Generation 70: Best Prompt - Explain how photosynthesis works in plants.\\\n",
      "Generation 71: Best Prompt - Explain how photosynthesis works in plants.\\\n",
      "Generation 72: Best Prompt - Explain how photosynthesis works in plants.\\\n",
      "Generation 73: Best Prompt - Explain how photosynthesis works in plants.\\\n",
      "Generation 74: Best Prompt - Explain how photosynthesis works in plants.\\\n",
      "Generation 75: Best Prompt - Explain how photosynthesis works in plants.\\\n",
      "Generation 76: Best Prompt - Explain how photosynthesis works in plants.\\\n",
      "Generation 77: Best Prompt - Explain how photosynthesis works in plants.\\\n",
      "Generation 78: Best Prompt - Explain how photosynthesis works in plants.\\\n",
      "Generation 79: Best Prompt - Explain how photosynthesis works in plants.\\\n",
      "Generation 80: Best Prompt - Explain how photosynthesis works in plants.\\\n",
      "Generation 81: Best Prompt - Explain how photosynthesis works in plants.\\\n",
      "Generation 82: Best Prompt - Explain how photosynthesis works in plants.\\\n",
      "Generation 83: Best Prompt - Explain how photosynthesis works in plants.\\\n",
      "Generation 84: Best Prompt - Explain how photosynthesis works in plants.\\\n",
      "Generation 85: Best Prompt - Explain how photosynthesis works in plants.\\\n",
      "Generation 86: Best Prompt - Explain how photosynthesis works in plants.\\\n",
      "Generation 87: Best Prompt - Explain how photosynthesis works in plants.\\\n",
      "Generation 88: Best Prompt - Explain how photosynthesis works in plants.\\\n",
      "Generation 89: Best Prompt - Write a poem about the beauty of the night sky.\\\n",
      "Generation 90: Best Prompt - Explain how photosynthesis works in plants.\\\n",
      "Generation 91: Best Prompt - Write a poem about the beauty of the night sky.\\\n",
      "Generation 92: Best Prompt - Write a poem about the beauty of the night sky.\\\n",
      "Generation 93: Best Prompt - Write a poem about the beauty of the night sky.\\\n",
      "Generation 94: Best Prompt - Explain how photosynthesis works in plants.\\\n",
      "Generation 95: Best Prompt - Explain how photosynthesis works in plants.\\\n",
      "Generation 96: Best Prompt - Explain how photosynthesis works in plants.\\\n",
      "Generation 97: Best Prompt - Explain how photosynthesis works in plants.\\\n",
      "Generation 98: Best Prompt - What advice would you give to someone starting their own tech startup?\\\n",
      "Generation 99: Best Prompt - What advice would you give to someone starting their own tech startup?\\\n",
      "Best overall prompt: What advice would you give to someone starting their own tech startup?\\\n"
     ]
    }
   ],
   "source": [
    "num_prompts = len(prompts)\n",
    "population_size = 10\n",
    "num_generations = 100\n",
    "\n",
    "# Fitness function \n",
    "def calculate_fitness(solution):\n",
    "    # Implement the fitness calculation \n",
    "    return random.uniform(0, 1)  # Placeholder\n",
    "\n",
    "# Initialize population with random solutions\n",
    "population = [random.randint(0, num_prompts-1) for _ in range(population_size)]\n",
    "\n",
    "for generation in range(num_generations):\n",
    "    # Calculate fitness for each solution\n",
    "    fitness_values = [calculate_fitness(sol) for sol in population]\n",
    "\n",
    "    # Selection\n",
    "    parents = select_parents(population, fitness_values)\n",
    "\n",
    "    # Crossover\n",
    "    children = crossover(parents)\n",
    "\n",
    "    # Mutation\n",
    "    mutate(children)\n",
    "\n",
    "    # Create new generation\n",
    "    population = children + parents\n",
    "\n",
    "    # Print best solution in this generation\n",
    "    best_sol = population[fitness_values.index(max(fitness_values))]\n",
    "    print(f\"Generation {generation}: Best Prompt - {prompts[best_sol]}\")\n",
    "\n",
    "# Final best solution\n",
    "best_overall_sol = population[fitness_values.index(max(fitness_values))]\n",
    "print(f\"Best overall prompt: {prompts[best_overall_sol]}\")\n"
   ]
  },
  {
   "cell_type": "code",
   "execution_count": null,
   "id": "dcbf5c46",
   "metadata": {},
   "outputs": [],
   "source": []
  },
  {
   "cell_type": "code",
   "execution_count": null,
   "id": "afd62b29",
   "metadata": {},
   "outputs": [],
   "source": []
  },
  {
   "cell_type": "code",
   "execution_count": null,
   "id": "d04ddc43",
   "metadata": {},
   "outputs": [],
   "source": []
  },
  {
   "cell_type": "code",
   "execution_count": null,
   "id": "17cd365a",
   "metadata": {},
   "outputs": [],
   "source": []
  }
 ],
 "metadata": {
  "kernelspec": {
   "display_name": "Python 3 (ipykernel)",
   "language": "python",
   "name": "python3"
  },
  "language_info": {
   "codemirror_mode": {
    "name": "ipython",
    "version": 3
   },
   "file_extension": ".py",
   "mimetype": "text/x-python",
   "name": "python",
   "nbconvert_exporter": "python",
   "pygments_lexer": "ipython3",
   "version": "3.9.13"
  }
 },
 "nbformat": 4,
 "nbformat_minor": 5
}
